{
  "cells": [
    {
      "cell_type": "markdown",
      "metadata": {
        "id": "view-in-github",
        "colab_type": "text"
      },
      "source": [
        "<a href=\"https://colab.research.google.com/github/lhartson03/psu_quants/blob/main/fin408_project1.ipynb\" target=\"_parent\"><img src=\"https://colab.research.google.com/assets/colab-badge.svg\" alt=\"Open In Colab\"/></a>"
      ]
    },
    {
      "cell_type": "markdown",
      "source": [
        "**Finance 408: Project 1**\n",
        "\n",
        "Name: Liam Hartson\n",
        "\n",
        "Notes: Recieved permission from professor to do this in python. See all answers in cell output.\n",
        "\n"
      ],
      "metadata": {
        "id": "tL4IBkB_peb5"
      }
    },
    {
      "cell_type": "code",
      "execution_count": null,
      "metadata": {
        "colab": {
          "base_uri": "https://localhost:8080/"
        },
        "id": "1kAnt3QMPu5J",
        "outputId": "08c5d501-3d49-437e-b077-49946de1bbb8"
      },
      "outputs": [
        {
          "output_type": "stream",
          "name": "stdout",
          "text": [
            "Requirement already satisfied: yfinance in /usr/local/lib/python3.10/dist-packages (0.2.30)\n",
            "Requirement already satisfied: pandas>=1.3.0 in /usr/local/lib/python3.10/dist-packages (from yfinance) (1.5.3)\n",
            "Requirement already satisfied: numpy>=1.16.5 in /usr/local/lib/python3.10/dist-packages (from yfinance) (1.23.5)\n",
            "Requirement already satisfied: requests>=2.31 in /usr/local/lib/python3.10/dist-packages (from yfinance) (2.31.0)\n",
            "Requirement already satisfied: multitasking>=0.0.7 in /usr/local/lib/python3.10/dist-packages (from yfinance) (0.0.11)\n",
            "Requirement already satisfied: lxml>=4.9.1 in /usr/local/lib/python3.10/dist-packages (from yfinance) (4.9.3)\n",
            "Requirement already satisfied: appdirs>=1.4.4 in /usr/local/lib/python3.10/dist-packages (from yfinance) (1.4.4)\n",
            "Requirement already satisfied: pytz>=2022.5 in /usr/local/lib/python3.10/dist-packages (from yfinance) (2023.3.post1)\n",
            "Requirement already satisfied: frozendict>=2.3.4 in /usr/local/lib/python3.10/dist-packages (from yfinance) (2.3.8)\n",
            "Requirement already satisfied: peewee>=3.16.2 in /usr/local/lib/python3.10/dist-packages (from yfinance) (3.16.3)\n",
            "Requirement already satisfied: beautifulsoup4>=4.11.1 in /usr/local/lib/python3.10/dist-packages (from yfinance) (4.11.2)\n",
            "Requirement already satisfied: html5lib>=1.1 in /usr/local/lib/python3.10/dist-packages (from yfinance) (1.1)\n",
            "Requirement already satisfied: soupsieve>1.2 in /usr/local/lib/python3.10/dist-packages (from beautifulsoup4>=4.11.1->yfinance) (2.5)\n",
            "Requirement already satisfied: six>=1.9 in /usr/local/lib/python3.10/dist-packages (from html5lib>=1.1->yfinance) (1.16.0)\n",
            "Requirement already satisfied: webencodings in /usr/local/lib/python3.10/dist-packages (from html5lib>=1.1->yfinance) (0.5.1)\n",
            "Requirement already satisfied: python-dateutil>=2.8.1 in /usr/local/lib/python3.10/dist-packages (from pandas>=1.3.0->yfinance) (2.8.2)\n",
            "Requirement already satisfied: charset-normalizer<4,>=2 in /usr/local/lib/python3.10/dist-packages (from requests>=2.31->yfinance) (3.2.0)\n",
            "Requirement already satisfied: idna<4,>=2.5 in /usr/local/lib/python3.10/dist-packages (from requests>=2.31->yfinance) (3.4)\n",
            "Requirement already satisfied: urllib3<3,>=1.21.1 in /usr/local/lib/python3.10/dist-packages (from requests>=2.31->yfinance) (2.0.5)\n",
            "Requirement already satisfied: certifi>=2017.4.17 in /usr/local/lib/python3.10/dist-packages (from requests>=2.31->yfinance) (2023.7.22)\n"
          ]
        }
      ],
      "source": [
        "!pip install yfinance"
      ]
    },
    {
      "cell_type": "code",
      "execution_count": 1,
      "metadata": {
        "id": "uExM6SzpQABs"
      },
      "outputs": [],
      "source": [
        "from pandas_datareader import data as pdr\n",
        "import yfinance as yf\n",
        "import pandas as pd\n",
        "import numpy as np\n",
        "from datetime import datetime\n",
        "import matplotlib.pyplot as plt\n",
        "import seaborn as sns\n",
        "import random\n",
        "import statsmodels.api as sm\n",
        "from scipy.stats import linregress\n",
        "\n",
        "\n",
        "yf.pdr_override()"
      ]
    },
    {
      "cell_type": "code",
      "execution_count": 2,
      "metadata": {
        "id": "y062Lun8UQpb"
      },
      "outputs": [],
      "source": [
        "def load_us_stock_data(tickerList, start_date, end_date):\n",
        "  stocks_data = pd.DataFrame()\n",
        "  stocks_data = pdr.get_data_yahoo(tickerList, start = start_date, end = end_date)['Adj Close']\n",
        "  return stocks_data"
      ]
    },
    {
      "cell_type": "markdown",
      "source": [
        "**Question 1: Estimating Correlation between ETFs\n",
        "SPY, LQD, SH, SDS, SSO, and SHV\n",
        "August 2010 - June 2018**\n",
        "\n",
        "SPY: Exchange traded fund managed by SSGA that seeks to track the performance of the S&P 500 Index. It is a cap weighted index and is the oldest ETF listed on US exchanges.\n",
        "\n",
        "LQD: ETF managed by Blackrock that seeks to track the U.S. dollar denominated corporate investment grade bond index.\n",
        "\n",
        "SH: Managed by ProShares, this ETF seeks a singular day -1x return of its benchmark the S&P 500.\n",
        "\n",
        "SDS: Managed by ProShares, this leverageed ETF seeks a singular day -2x return of its benchmark the S&P 500.\n",
        "\n",
        "SSO: Managed by ProShares, this leveraged ETF seeks a singular day 2x return of its benchmark the S&P 500.\n",
        "\n",
        "SHV: Managed by Blackrock, SHV seeks to track the returns ICE short term treasury bond index. Tresury Bonds with maturities less than one year."
      ],
      "metadata": {
        "id": "ILPvF3cUnTIj"
      }
    },
    {
      "cell_type": "code",
      "source": [
        "etf_list = ['SPY', 'LQD', 'SH', 'SDS', 'SSO', 'SHV']\n",
        "\n",
        "# get data\n",
        "price_data = load_us_stock_data(etf_list,datetime(2010,8,1),datetime(2018,7,1))\n",
        "\n",
        "# calculate daily returns\n",
        "daily_returns = (price_data / price_data.shift(1))-1\n",
        "monthly_returns_rolling = daily_returns.resample('M').apply(lambda x: (1 + x).prod() - 1)\n",
        "\n",
        "# find monthly returns by multiplying average daily * 21 trading days per month\n",
        "monthly_returns = daily_returns.mean()*21\n",
        "\n",
        "# calculate correlation matrix\n",
        "corr_matrix = daily_returns.corr()\n",
        "\n",
        "print(\"\\nMonthly Returns Decimal Form\")\n",
        "print(monthly_returns)\n",
        "\n",
        "print(\"\\nCorrelation Coefficient With SPY\")\n",
        "corr_matrix['SPY']"
      ],
      "metadata": {
        "colab": {
          "base_uri": "https://localhost:8080/"
        },
        "id": "gUtif1r9nR9F",
        "outputId": "af5d9324-12c7-42b9-dff4-f23cbc150f2e"
      },
      "execution_count": null,
      "outputs": [
        {
          "output_type": "stream",
          "name": "stdout",
          "text": [
            "[*********************100%%**********************]  6 of 6 completed\n",
            "\n",
            "Monthly Returns Decimal Form\n",
            "LQD    0.003581\n",
            "SDS   -0.023617\n",
            "SH    -0.012029\n",
            "SHV    0.000208\n",
            "SPY    0.011813\n",
            "SSO    0.022350\n",
            "dtype: float64\n",
            "\n",
            "Correlation Coefficient With SPY\n"
          ]
        },
        {
          "output_type": "execute_result",
          "data": {
            "text/plain": [
              "LQD   -0.098175\n",
              "SDS   -0.998760\n",
              "SH    -0.997926\n",
              "SHV   -0.042548\n",
              "SPY    1.000000\n",
              "SSO    0.998821\n",
              "Name: SPY, dtype: float64"
            ]
          },
          "metadata": {},
          "execution_count": 10
        }
      ]
    },
    {
      "cell_type": "markdown",
      "source": [
        "All Correlation Coefficients Make sense:\n",
        "\n",
        "\n",
        "\n",
        "---\n",
        "\n",
        "\n",
        "\n",
        "*   SDS, SH - both short SPX ETF's should be -1\n",
        "*   SSO - long leverageed etf should be 1\n",
        "*   LQD, SHV - bond asset classes, should not be highly correlated\n",
        "\n",
        "**End of Question 1:**"
      ],
      "metadata": {
        "id": "xpslCV4W0HDJ"
      }
    },
    {
      "cell_type": "code",
      "source": [
        "#dataframe with monthly returns\n",
        "monthly_returns_rolling"
      ],
      "metadata": {
        "colab": {
          "base_uri": "https://localhost:8080/",
          "height": 455
        },
        "id": "RyW544klInjB",
        "outputId": "a9439ed6-e9bb-432f-be87-29b18175514c"
      },
      "execution_count": null,
      "outputs": [
        {
          "output_type": "execute_result",
          "data": {
            "text/plain": [
              "                 LQD       SDS        SH       SHV           SPY       SSO\n",
              "Date                                                                      \n",
              "2010-08-31  0.030739  0.135969  0.068814  0.000273 -6.606940e-02 -0.130639\n",
              "2010-09-30  0.004566 -0.162705 -0.084784  0.000263  8.955457e-02  0.184396\n",
              "2010-10-31 -0.002629 -0.076377 -0.038650 -0.000009  3.820209e-02  0.075692\n",
              "2010-11-30 -0.016152 -0.005854 -0.002552 -0.000009  2.220446e-16 -0.004015\n",
              "2010-12-31 -0.007520 -0.125506 -0.065046  0.000354  6.685237e-02  0.139403\n",
              "...              ...       ...       ...       ...           ...       ...\n",
              "2018-02-28 -0.022372  0.065979  0.034603  0.000090 -3.636034e-02 -0.080723\n",
              "2018-03-31  0.005568  0.045391  0.024967  0.001670 -2.741049e-02 -0.055434\n",
              "2018-04-30 -0.015660 -0.010254 -0.003300  0.000934  5.168149e-03  0.001991\n",
              "2018-05-31  0.005213 -0.044894 -0.021854  0.001569  2.430900e-02  0.044091\n",
              "2018-06-30 -0.004873 -0.009633 -0.004424  0.001523  5.751011e-03  0.010177\n",
              "\n",
              "[95 rows x 6 columns]"
            ],
            "text/html": [
              "\n",
              "  <div id=\"df-7b6e351d-d9b6-4bd0-af75-3bc705818284\" class=\"colab-df-container\">\n",
              "    <div>\n",
              "<style scoped>\n",
              "    .dataframe tbody tr th:only-of-type {\n",
              "        vertical-align: middle;\n",
              "    }\n",
              "\n",
              "    .dataframe tbody tr th {\n",
              "        vertical-align: top;\n",
              "    }\n",
              "\n",
              "    .dataframe thead th {\n",
              "        text-align: right;\n",
              "    }\n",
              "</style>\n",
              "<table border=\"1\" class=\"dataframe\">\n",
              "  <thead>\n",
              "    <tr style=\"text-align: right;\">\n",
              "      <th></th>\n",
              "      <th>LQD</th>\n",
              "      <th>SDS</th>\n",
              "      <th>SH</th>\n",
              "      <th>SHV</th>\n",
              "      <th>SPY</th>\n",
              "      <th>SSO</th>\n",
              "    </tr>\n",
              "    <tr>\n",
              "      <th>Date</th>\n",
              "      <th></th>\n",
              "      <th></th>\n",
              "      <th></th>\n",
              "      <th></th>\n",
              "      <th></th>\n",
              "      <th></th>\n",
              "    </tr>\n",
              "  </thead>\n",
              "  <tbody>\n",
              "    <tr>\n",
              "      <th>2010-08-31</th>\n",
              "      <td>0.030739</td>\n",
              "      <td>0.135969</td>\n",
              "      <td>0.068814</td>\n",
              "      <td>0.000273</td>\n",
              "      <td>-6.606940e-02</td>\n",
              "      <td>-0.130639</td>\n",
              "    </tr>\n",
              "    <tr>\n",
              "      <th>2010-09-30</th>\n",
              "      <td>0.004566</td>\n",
              "      <td>-0.162705</td>\n",
              "      <td>-0.084784</td>\n",
              "      <td>0.000263</td>\n",
              "      <td>8.955457e-02</td>\n",
              "      <td>0.184396</td>\n",
              "    </tr>\n",
              "    <tr>\n",
              "      <th>2010-10-31</th>\n",
              "      <td>-0.002629</td>\n",
              "      <td>-0.076377</td>\n",
              "      <td>-0.038650</td>\n",
              "      <td>-0.000009</td>\n",
              "      <td>3.820209e-02</td>\n",
              "      <td>0.075692</td>\n",
              "    </tr>\n",
              "    <tr>\n",
              "      <th>2010-11-30</th>\n",
              "      <td>-0.016152</td>\n",
              "      <td>-0.005854</td>\n",
              "      <td>-0.002552</td>\n",
              "      <td>-0.000009</td>\n",
              "      <td>2.220446e-16</td>\n",
              "      <td>-0.004015</td>\n",
              "    </tr>\n",
              "    <tr>\n",
              "      <th>2010-12-31</th>\n",
              "      <td>-0.007520</td>\n",
              "      <td>-0.125506</td>\n",
              "      <td>-0.065046</td>\n",
              "      <td>0.000354</td>\n",
              "      <td>6.685237e-02</td>\n",
              "      <td>0.139403</td>\n",
              "    </tr>\n",
              "    <tr>\n",
              "      <th>...</th>\n",
              "      <td>...</td>\n",
              "      <td>...</td>\n",
              "      <td>...</td>\n",
              "      <td>...</td>\n",
              "      <td>...</td>\n",
              "      <td>...</td>\n",
              "    </tr>\n",
              "    <tr>\n",
              "      <th>2018-02-28</th>\n",
              "      <td>-0.022372</td>\n",
              "      <td>0.065979</td>\n",
              "      <td>0.034603</td>\n",
              "      <td>0.000090</td>\n",
              "      <td>-3.636034e-02</td>\n",
              "      <td>-0.080723</td>\n",
              "    </tr>\n",
              "    <tr>\n",
              "      <th>2018-03-31</th>\n",
              "      <td>0.005568</td>\n",
              "      <td>0.045391</td>\n",
              "      <td>0.024967</td>\n",
              "      <td>0.001670</td>\n",
              "      <td>-2.741049e-02</td>\n",
              "      <td>-0.055434</td>\n",
              "    </tr>\n",
              "    <tr>\n",
              "      <th>2018-04-30</th>\n",
              "      <td>-0.015660</td>\n",
              "      <td>-0.010254</td>\n",
              "      <td>-0.003300</td>\n",
              "      <td>0.000934</td>\n",
              "      <td>5.168149e-03</td>\n",
              "      <td>0.001991</td>\n",
              "    </tr>\n",
              "    <tr>\n",
              "      <th>2018-05-31</th>\n",
              "      <td>0.005213</td>\n",
              "      <td>-0.044894</td>\n",
              "      <td>-0.021854</td>\n",
              "      <td>0.001569</td>\n",
              "      <td>2.430900e-02</td>\n",
              "      <td>0.044091</td>\n",
              "    </tr>\n",
              "    <tr>\n",
              "      <th>2018-06-30</th>\n",
              "      <td>-0.004873</td>\n",
              "      <td>-0.009633</td>\n",
              "      <td>-0.004424</td>\n",
              "      <td>0.001523</td>\n",
              "      <td>5.751011e-03</td>\n",
              "      <td>0.010177</td>\n",
              "    </tr>\n",
              "  </tbody>\n",
              "</table>\n",
              "<p>95 rows × 6 columns</p>\n",
              "</div>\n",
              "    <div class=\"colab-df-buttons\">\n",
              "\n",
              "  <div class=\"colab-df-container\">\n",
              "    <button class=\"colab-df-convert\" onclick=\"convertToInteractive('df-7b6e351d-d9b6-4bd0-af75-3bc705818284')\"\n",
              "            title=\"Convert this dataframe to an interactive table.\"\n",
              "            style=\"display:none;\">\n",
              "\n",
              "  <svg xmlns=\"http://www.w3.org/2000/svg\" height=\"24px\" viewBox=\"0 -960 960 960\">\n",
              "    <path d=\"M120-120v-720h720v720H120Zm60-500h600v-160H180v160Zm220 220h160v-160H400v160Zm0 220h160v-160H400v160ZM180-400h160v-160H180v160Zm440 0h160v-160H620v160ZM180-180h160v-160H180v160Zm440 0h160v-160H620v160Z\"/>\n",
              "  </svg>\n",
              "    </button>\n",
              "\n",
              "  <style>\n",
              "    .colab-df-container {\n",
              "      display:flex;\n",
              "      gap: 12px;\n",
              "    }\n",
              "\n",
              "    .colab-df-convert {\n",
              "      background-color: #E8F0FE;\n",
              "      border: none;\n",
              "      border-radius: 50%;\n",
              "      cursor: pointer;\n",
              "      display: none;\n",
              "      fill: #1967D2;\n",
              "      height: 32px;\n",
              "      padding: 0 0 0 0;\n",
              "      width: 32px;\n",
              "    }\n",
              "\n",
              "    .colab-df-convert:hover {\n",
              "      background-color: #E2EBFA;\n",
              "      box-shadow: 0px 1px 2px rgba(60, 64, 67, 0.3), 0px 1px 3px 1px rgba(60, 64, 67, 0.15);\n",
              "      fill: #174EA6;\n",
              "    }\n",
              "\n",
              "    .colab-df-buttons div {\n",
              "      margin-bottom: 4px;\n",
              "    }\n",
              "\n",
              "    [theme=dark] .colab-df-convert {\n",
              "      background-color: #3B4455;\n",
              "      fill: #D2E3FC;\n",
              "    }\n",
              "\n",
              "    [theme=dark] .colab-df-convert:hover {\n",
              "      background-color: #434B5C;\n",
              "      box-shadow: 0px 1px 3px 1px rgba(0, 0, 0, 0.15);\n",
              "      filter: drop-shadow(0px 1px 2px rgba(0, 0, 0, 0.3));\n",
              "      fill: #FFFFFF;\n",
              "    }\n",
              "  </style>\n",
              "\n",
              "    <script>\n",
              "      const buttonEl =\n",
              "        document.querySelector('#df-7b6e351d-d9b6-4bd0-af75-3bc705818284 button.colab-df-convert');\n",
              "      buttonEl.style.display =\n",
              "        google.colab.kernel.accessAllowed ? 'block' : 'none';\n",
              "\n",
              "      async function convertToInteractive(key) {\n",
              "        const element = document.querySelector('#df-7b6e351d-d9b6-4bd0-af75-3bc705818284');\n",
              "        const dataTable =\n",
              "          await google.colab.kernel.invokeFunction('convertToInteractive',\n",
              "                                                    [key], {});\n",
              "        if (!dataTable) return;\n",
              "\n",
              "        const docLinkHtml = 'Like what you see? Visit the ' +\n",
              "          '<a target=\"_blank\" href=https://colab.research.google.com/notebooks/data_table.ipynb>data table notebook</a>'\n",
              "          + ' to learn more about interactive tables.';\n",
              "        element.innerHTML = '';\n",
              "        dataTable['output_type'] = 'display_data';\n",
              "        await google.colab.output.renderOutput(dataTable, element);\n",
              "        const docLink = document.createElement('div');\n",
              "        docLink.innerHTML = docLinkHtml;\n",
              "        element.appendChild(docLink);\n",
              "      }\n",
              "    </script>\n",
              "  </div>\n",
              "\n",
              "\n",
              "<div id=\"df-3dceabe7-ccf9-4658-87d1-9bc79721112a\">\n",
              "  <button class=\"colab-df-quickchart\" onclick=\"quickchart('df-3dceabe7-ccf9-4658-87d1-9bc79721112a')\"\n",
              "            title=\"Suggest charts.\"\n",
              "            style=\"display:none;\">\n",
              "\n",
              "<svg xmlns=\"http://www.w3.org/2000/svg\" height=\"24px\"viewBox=\"0 0 24 24\"\n",
              "     width=\"24px\">\n",
              "    <g>\n",
              "        <path d=\"M19 3H5c-1.1 0-2 .9-2 2v14c0 1.1.9 2 2 2h14c1.1 0 2-.9 2-2V5c0-1.1-.9-2-2-2zM9 17H7v-7h2v7zm4 0h-2V7h2v10zm4 0h-2v-4h2v4z\"/>\n",
              "    </g>\n",
              "</svg>\n",
              "  </button>\n",
              "\n",
              "<style>\n",
              "  .colab-df-quickchart {\n",
              "      --bg-color: #E8F0FE;\n",
              "      --fill-color: #1967D2;\n",
              "      --hover-bg-color: #E2EBFA;\n",
              "      --hover-fill-color: #174EA6;\n",
              "      --disabled-fill-color: #AAA;\n",
              "      --disabled-bg-color: #DDD;\n",
              "  }\n",
              "\n",
              "  [theme=dark] .colab-df-quickchart {\n",
              "      --bg-color: #3B4455;\n",
              "      --fill-color: #D2E3FC;\n",
              "      --hover-bg-color: #434B5C;\n",
              "      --hover-fill-color: #FFFFFF;\n",
              "      --disabled-bg-color: #3B4455;\n",
              "      --disabled-fill-color: #666;\n",
              "  }\n",
              "\n",
              "  .colab-df-quickchart {\n",
              "    background-color: var(--bg-color);\n",
              "    border: none;\n",
              "    border-radius: 50%;\n",
              "    cursor: pointer;\n",
              "    display: none;\n",
              "    fill: var(--fill-color);\n",
              "    height: 32px;\n",
              "    padding: 0;\n",
              "    width: 32px;\n",
              "  }\n",
              "\n",
              "  .colab-df-quickchart:hover {\n",
              "    background-color: var(--hover-bg-color);\n",
              "    box-shadow: 0 1px 2px rgba(60, 64, 67, 0.3), 0 1px 3px 1px rgba(60, 64, 67, 0.15);\n",
              "    fill: var(--button-hover-fill-color);\n",
              "  }\n",
              "\n",
              "  .colab-df-quickchart-complete:disabled,\n",
              "  .colab-df-quickchart-complete:disabled:hover {\n",
              "    background-color: var(--disabled-bg-color);\n",
              "    fill: var(--disabled-fill-color);\n",
              "    box-shadow: none;\n",
              "  }\n",
              "\n",
              "  .colab-df-spinner {\n",
              "    border: 2px solid var(--fill-color);\n",
              "    border-color: transparent;\n",
              "    border-bottom-color: var(--fill-color);\n",
              "    animation:\n",
              "      spin 1s steps(1) infinite;\n",
              "  }\n",
              "\n",
              "  @keyframes spin {\n",
              "    0% {\n",
              "      border-color: transparent;\n",
              "      border-bottom-color: var(--fill-color);\n",
              "      border-left-color: var(--fill-color);\n",
              "    }\n",
              "    20% {\n",
              "      border-color: transparent;\n",
              "      border-left-color: var(--fill-color);\n",
              "      border-top-color: var(--fill-color);\n",
              "    }\n",
              "    30% {\n",
              "      border-color: transparent;\n",
              "      border-left-color: var(--fill-color);\n",
              "      border-top-color: var(--fill-color);\n",
              "      border-right-color: var(--fill-color);\n",
              "    }\n",
              "    40% {\n",
              "      border-color: transparent;\n",
              "      border-right-color: var(--fill-color);\n",
              "      border-top-color: var(--fill-color);\n",
              "    }\n",
              "    60% {\n",
              "      border-color: transparent;\n",
              "      border-right-color: var(--fill-color);\n",
              "    }\n",
              "    80% {\n",
              "      border-color: transparent;\n",
              "      border-right-color: var(--fill-color);\n",
              "      border-bottom-color: var(--fill-color);\n",
              "    }\n",
              "    90% {\n",
              "      border-color: transparent;\n",
              "      border-bottom-color: var(--fill-color);\n",
              "    }\n",
              "  }\n",
              "</style>\n",
              "\n",
              "  <script>\n",
              "    async function quickchart(key) {\n",
              "      const quickchartButtonEl =\n",
              "        document.querySelector('#' + key + ' button');\n",
              "      quickchartButtonEl.disabled = true;  // To prevent multiple clicks.\n",
              "      quickchartButtonEl.classList.add('colab-df-spinner');\n",
              "      try {\n",
              "        const charts = await google.colab.kernel.invokeFunction(\n",
              "            'suggestCharts', [key], {});\n",
              "      } catch (error) {\n",
              "        console.error('Error during call to suggestCharts:', error);\n",
              "      }\n",
              "      quickchartButtonEl.classList.remove('colab-df-spinner');\n",
              "      quickchartButtonEl.classList.add('colab-df-quickchart-complete');\n",
              "    }\n",
              "    (() => {\n",
              "      let quickchartButtonEl =\n",
              "        document.querySelector('#df-3dceabe7-ccf9-4658-87d1-9bc79721112a button');\n",
              "      quickchartButtonEl.style.display =\n",
              "        google.colab.kernel.accessAllowed ? 'block' : 'none';\n",
              "    })();\n",
              "  </script>\n",
              "</div>\n",
              "    </div>\n",
              "  </div>\n"
            ]
          },
          "metadata": {},
          "execution_count": 12
        }
      ]
    },
    {
      "cell_type": "markdown",
      "source": [
        "**Start Question 2**\n",
        "\n",
        "SPY: Exchange traded fund managed by SSGA that seeks to track the performance of the S&P 500 Index. It is a cap weighted index and is the oldest ETF listed on US exchanges.\n",
        "\n",
        "LQD: ETF managed by Blackrock that seeks to track the U.S. dollar denominated corporate investment grade bond index.\n"
      ],
      "metadata": {
        "id": "VI_P2Ce-J6-b"
      }
    },
    {
      "cell_type": "code",
      "execution_count": null,
      "metadata": {
        "colab": {
          "base_uri": "https://localhost:8080/"
        },
        "id": "dbD-uROGUZt-",
        "outputId": "ae844366-3712-4897-e513-200be4cdeb70"
      },
      "outputs": [
        {
          "output_type": "stream",
          "name": "stdout",
          "text": [
            "\r[                       0%%                      ]\r[*********************100%%**********************]  2 of 2 completed\n",
            "Monthly Average returns\n",
            " LQD    0.003581\n",
            "SPY    0.011813\n",
            "dtype: float64 \n",
            "\n",
            "Monthly Standard Deviations\n",
            " LQD    0.015396\n",
            "SPY    0.041112\n",
            "dtype: float64 \n",
            "\n",
            "\n",
            "Annualized Average returns\n",
            " LQD    0.042629\n",
            "SPY    0.140629\n",
            "dtype: float64 \n",
            "\n",
            "Annualized Standard Deviations\n",
            " LQD    0.053120\n",
            "SPY    0.141851\n",
            "dtype: float64\n"
          ]
        }
      ],
      "source": [
        "portfolio = ['SPY', 'LQD']\n",
        "\n",
        "portfolio_data = load_us_stock_data(portfolio,datetime(2010,8,1),datetime(2018,7,1))\n",
        "\n",
        "daily_returns = (portfolio_data / portfolio_data.shift(1))-1\n",
        "\n",
        "# caclulate monthly stv and mu\n",
        "monthly_sd = daily_returns.std()*np.sqrt(21)\n",
        "monthly_e_r = daily_returns.mean()*21\n",
        "\n",
        "# calculate standard deviation and expected return\n",
        "sd = daily_returns.std()*np.sqrt(250)\n",
        "e_r = daily_returns.mean()*250\n",
        "cov_matrix = daily_returns.cov()\n",
        "print(\"Monthly Average returns\\n\",monthly_e_r,\"\\n\\nMonthly Standard Deviations\\n\",monthly_sd,'\\n\\n')\n",
        "\n",
        "print(\"Annualized Average returns\\n\",e_r,\"\\n\\nAnnualized Standard Deviations\\n\",sd)"
      ]
    },
    {
      "cell_type": "code",
      "source": [
        "print('Correlation between SPY & LQD: ',round(daily_returns['SPY'].corr(daily_returns['LQD']),4))"
      ],
      "metadata": {
        "colab": {
          "base_uri": "https://localhost:8080/"
        },
        "id": "TDgnfKO4M391",
        "outputId": "fdc5d5c8-1a13-4c9c-c17c-9016c4b3f125"
      },
      "execution_count": null,
      "outputs": [
        {
          "output_type": "stream",
          "name": "stdout",
          "text": [
            "Correlation between SPY & LQD:  -0.0982\n"
          ]
        }
      ]
    },
    {
      "cell_type": "code",
      "execution_count": null,
      "metadata": {
        "id": "yYLqCb51YBxN"
      },
      "outputs": [],
      "source": [
        "# Instead of incremental weights this uses a monte carlo method to generate feasible portfolios\n",
        "# Sampling from a dirichlet distribution\n",
        "p_ret = []\n",
        "p_weights = []\n",
        "p_vol = []\n",
        "\n",
        "# set no. of assets and portfolios to simulate\n",
        "num_assets = len(portfolio_data.columns)\n",
        "num_portfolios = 1000\n",
        "\n",
        "# for each random portfolio, find the return and volatility\n",
        "for portfolio in range(num_portfolios):\n",
        "    weights = np.random.dirichlet(np.ones(num_assets), size=1)[0]\n",
        "    # ScaleS the weights to fit your desired range, e.g., -1 to 1\n",
        "    min_weight = -0.5\n",
        "    max_weight = 1.5\n",
        "    weights = min_weight + (max_weight - min_weight) * weights\n",
        "    weights = weights/np.sum(weights)\n",
        "    p_weights.append(weights)\n",
        "    returns = np.dot(weights,e_r)\n",
        "    p_ret.append(returns)\n",
        "    var = cov_matrix.mul(weights,axis=0).mul(weights,axis=1).sum().sum()\n",
        "    ann_sd = np.sqrt(var*250)\n",
        "    p_vol.append(ann_sd)\n",
        "\n",
        "data = {'returns': p_ret, 'volatility': p_vol}\n",
        "for counter, symbol in enumerate(portfolio_data.columns.tolist()):\n",
        "    data[symbol + '_weight'] = [w[counter] for w in p_weights]\n",
        "portfolios = pd.DataFrame(data)"
      ]
    },
    {
      "cell_type": "code",
      "execution_count": null,
      "metadata": {
        "colab": {
          "base_uri": "https://localhost:8080/",
          "height": 872
        },
        "id": "9NkeyLc3ZcNU",
        "outputId": "ed68b2cf-c15a-4282-8744-7c73ee4b92c1"
      },
      "outputs": [
        {
          "output_type": "display_data",
          "data": {
            "text/plain": [
              "<Figure size 1000x1000 with 1 Axes>"
            ],
            "image/png": "[encoded data removed]"
          },
          "metadata": {}
        }
      ],
      "source": [
        "portfolios.plot.scatter(x='volatility',y='returns',grid=True,marker='o', s=10, alpha=0.3,figsize=[10,10])\n",
        "plt.title('SPY,LQD Feasible Portfolio Curve');"
      ]
    },
    {
      "cell_type": "code",
      "source": [
        "print('tabluated portfolios')\n",
        "print(portfolios[['returns', 'volatility','LQD_weight','SPY_weight']])"
      ],
      "metadata": {
        "colab": {
          "base_uri": "https://localhost:8080/"
        },
        "id": "__OtqPQts5mc",
        "outputId": "b2166663-cd9f-4dd1-d82a-ba62adf1a1ba"
      },
      "execution_count": null,
      "outputs": [
        {
          "output_type": "stream",
          "name": "stdout",
          "text": [
            "tabluated portfolios\n",
            "      returns  volatility  LQD_weight  SPY_weight\n",
            "0    0.004823    0.095939    1.385770   -0.385770\n",
            "1    0.162295    0.174756   -0.221083    1.221083\n",
            "2    0.047333    0.050360    0.951995    0.048005\n",
            "3    0.164752    0.178528   -0.246160    1.246160\n",
            "4    0.183561    0.207575   -0.438088    1.438088\n",
            "..        ...         ...         ...         ...\n",
            "995  0.027816    0.066756    1.151149   -0.151149\n",
            "996  0.019452    0.076631    1.236498   -0.236498\n",
            "997  0.082674    0.063160    0.591369    0.408631\n",
            "998  0.030487    0.063869    1.123899   -0.123899\n",
            "999  0.182880    0.206518   -0.431133    1.431133\n",
            "\n",
            "[1000 rows x 4 columns]\n"
          ]
        }
      ]
    },
    {
      "cell_type": "markdown",
      "source": [
        "**End Question 2**\n",
        "\n",
        "**Start Question 3**"
      ],
      "metadata": {
        "id": "ZmyEpxJSqP1X"
      }
    },
    {
      "cell_type": "code",
      "execution_count": null,
      "metadata": {
        "id": "kzog_Iz0fYHU"
      },
      "outputs": [],
      "source": [
        "RF = 0.02\n",
        "min_var_port = portfolios.loc[portfolios['volatility'].idxmin()]\n",
        "min_var_port['sharpe'] = (min_var_port['returns']-RF)/min_var_port['volatility']\n",
        "portfolios['sharpe'] = (portfolios['returns']-RF)/portfolios['volatility']\n",
        "sharpe_max = portfolios.loc[portfolios['sharpe'].idxmax()]"
      ]
    },
    {
      "cell_type": "code",
      "source": [
        "volatility_values = portfolios['volatility'].values  # Assuming 'volatility' and 'returns' are column names in your DataFrame\n",
        "x=0\n",
        "y_values = []\n",
        "x_values = []\n",
        "while x < max(portfolios['volatility'].values):\n",
        "  y_values.append((sharpe_max[4] * x) + RF)\n",
        "  x_values.append(x)\n",
        "  x+=0.01"
      ],
      "metadata": {
        "id": "XojK8eFIm6jB"
      },
      "execution_count": null,
      "outputs": []
    },
    {
      "cell_type": "code",
      "source": [
        "print('Annual average return\\n', e_r, '\\n\\nAnnualized average stdv\\n',sd)"
      ],
      "metadata": {
        "colab": {
          "base_uri": "https://localhost:8080/"
        },
        "id": "AEQPO0FwU_nH",
        "outputId": "8d3ce1d1-3235-4a58-8554-3d98a9c6527c"
      },
      "execution_count": null,
      "outputs": [
        {
          "output_type": "stream",
          "name": "stdout",
          "text": [
            "Annual average return\n",
            " LQD    0.042629\n",
            "SPY    0.140629\n",
            "dtype: float64 \n",
            "\n",
            "Annualized average stdv\n",
            " LQD    0.053120\n",
            "SPY    0.141851\n",
            "dtype: float64\n"
          ]
        }
      ]
    },
    {
      "cell_type": "code",
      "execution_count": null,
      "metadata": {
        "colab": {
          "base_uri": "https://localhost:8080/",
          "height": 1000
        },
        "id": "ZM-bQ7opgOQ2",
        "outputId": "da6b6621-d287-44cd-d36e-a26444e06be8"
      },
      "outputs": [
        {
          "output_type": "stream",
          "name": "stdout",
          "text": [
            "\n",
            "\n",
            "Tangency Portfolio\n",
            "returns       0.081514\n",
            "volatility    0.061973\n",
            "LQD_weight    0.603208\n",
            "SPY_weight    0.396792\n",
            "sharpe        0.992599\n",
            "Name: 987, dtype: float64\n"
          ]
        },
        {
          "output_type": "display_data",
          "data": {
            "text/plain": [
              "<Figure size 1000x1000 with 1 Axes>"
            ],
            "image/png": "[encoded data removed]"
          },
          "metadata": {}
        }
      ],
      "source": [
        "portfolios.plot.scatter(x='volatility',y='returns',grid=True,\\\n",
        "                        marker='o', s=10, alpha=0.3,figsize=[10,10])\n",
        "plt.xlim(0, max(volatility_values)+0.02)\n",
        "plt.ylim(0,max(portfolios['returns'].values)+0.02)\n",
        "\n",
        "plt.scatter(x=min_var_port[1],y=min_var_port[0],\\\n",
        "            color='r', marker='*', s=500);\n",
        "plt.scatter(x=sharpe_max[1],y=sharpe_max[0],\\\n",
        "            color='y', marker='*', s=500);\n",
        "plt.title('Efficient Frontier and least risky / max sharpe portfolio');\n",
        "plt.plot(x_values, y_values, label=\"CAL\", color='r')\n",
        "print(\"\\n\\nTangency Portfolio\")\n",
        "print(sharpe_max)"
      ]
    },
    {
      "cell_type": "code",
      "source": [
        "a = [8,12,16]\n",
        "print('           T-BIll | Stocks | Bonds')\n",
        "for n in range(0,len(a)):\n",
        "  sigma = sharpe_max[1]\n",
        "  Y = (sharpe_max[0]-RF)/(a[n]*(sigma**2))\n",
        "  w_t_bill = 1- Y\n",
        "  w_stocks = sharpe_max[3]*Y\n",
        "  w_bonds = sharpe_max[2]*Y\n",
        "  #print(\"Investor \" + str(n+1) ,round(w_t_bill,2),round(w_stocks,2),round(w_bonds,2))\n",
        "  print(f\"Investor {n+1}: {w_t_bill*100:.2f}%, {w_stocks*100:.2f}%, {w_bonds*100:.2f}%\")\n",
        "  print(\"Investor {}: ${:.2f}, ${:.2f}, ${:.2f}\".format(n+1, w_t_bill*10000, w_stocks*10000, w_bonds*10000),\"\\n\")\n",
        "\n"
      ],
      "metadata": {
        "colab": {
          "base_uri": "https://localhost:8080/"
        },
        "id": "7_x-yKWbvXDW",
        "outputId": "01890c6b-d214-488e-b40d-cd47e40df4c1"
      },
      "execution_count": null,
      "outputs": [
        {
          "output_type": "stream",
          "name": "stdout",
          "text": [
            "           T-BIll | Stocks | Bonds\n",
            "Investor 1: -100.21%, 79.44%, 120.77%\n",
            "Investor 1: $-10020.85, $7944.11, $12076.74 \n",
            "\n",
            "Investor 2: -33.47%, 52.96%, 80.51%\n",
            "Investor 2: $-3347.24, $5296.08, $8051.16 \n",
            "\n",
            "Investor 3: -0.10%, 39.72%, 60.38%\n",
            "Investor 3: $-10.43, $3972.06, $6038.37 \n",
            "\n"
          ]
        }
      ]
    },
    {
      "cell_type": "markdown",
      "source": [
        "**Question 4**\n",
        "\n",
        "\n",
        "---\n",
        "\n",
        "\n",
        "\n",
        "*   VOO: Managed by Vangaurd, this fund seeks to track the return of the S&P 500 index.\n",
        "*   VMNFX: Managed by vanguard, this funds goal is to nuteralize the effect of stock market movement on returns.\n",
        "*   XLP: Represents the consumer statles sector of the S&P 500. Seeks to track the results of the index.\n",
        "*   XLY: Represents the consumer discretionary sector of the S&P 500. Seeks to track the results of the index.\n",
        "*   SSO: Managed by ProShares, this leveraged ETF seeks a singular day 2x return of its benchmark the S&P 500."
      ],
      "metadata": {
        "id": "x0Prsj6SVYrU"
      }
    },
    {
      "cell_type": "code",
      "source": [
        "fund_list = ['VOO','VMNFX','XLP','XLY','SSO']\n",
        "fund_data = load_us_stock_data( fund_list,datetime(2018,9,24), datetime(2023,9,24))\n",
        "daily_fund_returns = (fund_data / fund_data.shift(1))-1\n",
        "daily_fund_returns.dropna(inplace=True)\n",
        "monthly_returns = daily_fund_returns.resample('M').apply(lambda x: (1 + x).prod() - 1)\n",
        "print('Monthly Returns \\n\\n')\n",
        "monthly_returns"
      ],
      "metadata": {
        "colab": {
          "base_uri": "https://localhost:8080/",
          "height": 524
        },
        "id": "ItXn7T0PzVEi",
        "outputId": "d42e8664-cf3e-46d0-fdf0-32b292eb622d"
      },
      "execution_count": 3,
      "outputs": [
        {
          "output_type": "stream",
          "name": "stdout",
          "text": [
            "[*********************100%%**********************]  5 of 5 completed\n",
            "Monthly Returns \n",
            "\n",
            "\n"
          ]
        },
        {
          "output_type": "execute_result",
          "data": {
            "text/plain": [
              "                 SSO     VMNFX       VOO       XLP       XLY\n",
              "Date                                                        \n",
              "2018-09-30 -0.003436  0.010084 -0.001501 -0.004614  0.009125\n",
              "2018-10-31 -0.140135  0.007488 -0.068377  0.020026 -0.101007\n",
              "2018-11-30  0.031464 -0.036334  0.018851  0.022723  0.024768\n",
              "2018-12-31 -0.177017  0.004526 -0.088472 -0.089145 -0.079562\n",
              "2019-01-31  0.157294 -0.023236  0.079196  0.051398  0.098677\n",
              "...              ...       ...       ...       ...       ...\n",
              "2023-05-31  0.002913  0.009098  0.004816 -0.061596  0.025362\n",
              "2023-06-30  0.126065  0.024590  0.065099  0.027882  0.122298\n",
              "2023-07-31  0.060877  0.002400  0.032901  0.021302  0.023143\n",
              "2023-08-31 -0.040201  0.031125 -0.016283 -0.039472 -0.017440\n",
              "2023-09-30 -0.084276  0.034830 -0.040766 -0.029476 -0.055614\n",
              "\n",
              "[61 rows x 5 columns]"
            ],
            "text/html": [
              "\n",
              "  <div id=\"df-7ad25226-0901-4cac-a7e7-2349f3dc615d\" class=\"colab-df-container\">\n",
              "    <div>\n",
              "<style scoped>\n",
              "    .dataframe tbody tr th:only-of-type {\n",
              "        vertical-align: middle;\n",
              "    }\n",
              "\n",
              "    .dataframe tbody tr th {\n",
              "        vertical-align: top;\n",
              "    }\n",
              "\n",
              "    .dataframe thead th {\n",
              "        text-align: right;\n",
              "    }\n",
              "</style>\n",
              "<table border=\"1\" class=\"dataframe\">\n",
              "  <thead>\n",
              "    <tr style=\"text-align: right;\">\n",
              "      <th></th>\n",
              "      <th>SSO</th>\n",
              "      <th>VMNFX</th>\n",
              "      <th>VOO</th>\n",
              "      <th>XLP</th>\n",
              "      <th>XLY</th>\n",
              "    </tr>\n",
              "    <tr>\n",
              "      <th>Date</th>\n",
              "      <th></th>\n",
              "      <th></th>\n",
              "      <th></th>\n",
              "      <th></th>\n",
              "      <th></th>\n",
              "    </tr>\n",
              "  </thead>\n",
              "  <tbody>\n",
              "    <tr>\n",
              "      <th>2018-09-30</th>\n",
              "      <td>-0.003436</td>\n",
              "      <td>0.010084</td>\n",
              "      <td>-0.001501</td>\n",
              "      <td>-0.004614</td>\n",
              "      <td>0.009125</td>\n",
              "    </tr>\n",
              "    <tr>\n",
              "      <th>2018-10-31</th>\n",
              "      <td>-0.140135</td>\n",
              "      <td>0.007488</td>\n",
              "      <td>-0.068377</td>\n",
              "      <td>0.020026</td>\n",
              "      <td>-0.101007</td>\n",
              "    </tr>\n",
              "    <tr>\n",
              "      <th>2018-11-30</th>\n",
              "      <td>0.031464</td>\n",
              "      <td>-0.036334</td>\n",
              "      <td>0.018851</td>\n",
              "      <td>0.022723</td>\n",
              "      <td>0.024768</td>\n",
              "    </tr>\n",
              "    <tr>\n",
              "      <th>2018-12-31</th>\n",
              "      <td>-0.177017</td>\n",
              "      <td>0.004526</td>\n",
              "      <td>-0.088472</td>\n",
              "      <td>-0.089145</td>\n",
              "      <td>-0.079562</td>\n",
              "    </tr>\n",
              "    <tr>\n",
              "      <th>2019-01-31</th>\n",
              "      <td>0.157294</td>\n",
              "      <td>-0.023236</td>\n",
              "      <td>0.079196</td>\n",
              "      <td>0.051398</td>\n",
              "      <td>0.098677</td>\n",
              "    </tr>\n",
              "    <tr>\n",
              "      <th>...</th>\n",
              "      <td>...</td>\n",
              "      <td>...</td>\n",
              "      <td>...</td>\n",
              "      <td>...</td>\n",
              "      <td>...</td>\n",
              "    </tr>\n",
              "    <tr>\n",
              "      <th>2023-05-31</th>\n",
              "      <td>0.002913</td>\n",
              "      <td>0.009098</td>\n",
              "      <td>0.004816</td>\n",
              "      <td>-0.061596</td>\n",
              "      <td>0.025362</td>\n",
              "    </tr>\n",
              "    <tr>\n",
              "      <th>2023-06-30</th>\n",
              "      <td>0.126065</td>\n",
              "      <td>0.024590</td>\n",
              "      <td>0.065099</td>\n",
              "      <td>0.027882</td>\n",
              "      <td>0.122298</td>\n",
              "    </tr>\n",
              "    <tr>\n",
              "      <th>2023-07-31</th>\n",
              "      <td>0.060877</td>\n",
              "      <td>0.002400</td>\n",
              "      <td>0.032901</td>\n",
              "      <td>0.021302</td>\n",
              "      <td>0.023143</td>\n",
              "    </tr>\n",
              "    <tr>\n",
              "      <th>2023-08-31</th>\n",
              "      <td>-0.040201</td>\n",
              "      <td>0.031125</td>\n",
              "      <td>-0.016283</td>\n",
              "      <td>-0.039472</td>\n",
              "      <td>-0.017440</td>\n",
              "    </tr>\n",
              "    <tr>\n",
              "      <th>2023-09-30</th>\n",
              "      <td>-0.084276</td>\n",
              "      <td>0.034830</td>\n",
              "      <td>-0.040766</td>\n",
              "      <td>-0.029476</td>\n",
              "      <td>-0.055614</td>\n",
              "    </tr>\n",
              "  </tbody>\n",
              "</table>\n",
              "<p>61 rows × 5 columns</p>\n",
              "</div>\n",
              "    <div class=\"colab-df-buttons\">\n",
              "\n",
              "  <div class=\"colab-df-container\">\n",
              "    <button class=\"colab-df-convert\" onclick=\"convertToInteractive('df-7ad25226-0901-4cac-a7e7-2349f3dc615d')\"\n",
              "            title=\"Convert this dataframe to an interactive table.\"\n",
              "            style=\"display:none;\">\n",
              "\n",
              "  <svg xmlns=\"http://www.w3.org/2000/svg\" height=\"24px\" viewBox=\"0 -960 960 960\">\n",
              "    <path d=\"M120-120v-720h720v720H120Zm60-500h600v-160H180v160Zm220 220h160v-160H400v160Zm0 220h160v-160H400v160ZM180-400h160v-160H180v160Zm440 0h160v-160H620v160ZM180-180h160v-160H180v160Zm440 0h160v-160H620v160Z\"/>\n",
              "  </svg>\n",
              "    </button>\n",
              "\n",
              "  <style>\n",
              "    .colab-df-container {\n",
              "      display:flex;\n",
              "      gap: 12px;\n",
              "    }\n",
              "\n",
              "    .colab-df-convert {\n",
              "      background-color: #E8F0FE;\n",
              "      border: none;\n",
              "      border-radius: 50%;\n",
              "      cursor: pointer;\n",
              "      display: none;\n",
              "      fill: #1967D2;\n",
              "      height: 32px;\n",
              "      padding: 0 0 0 0;\n",
              "      width: 32px;\n",
              "    }\n",
              "\n",
              "    .colab-df-convert:hover {\n",
              "      background-color: #E2EBFA;\n",
              "      box-shadow: 0px 1px 2px rgba(60, 64, 67, 0.3), 0px 1px 3px 1px rgba(60, 64, 67, 0.15);\n",
              "      fill: #174EA6;\n",
              "    }\n",
              "\n",
              "    .colab-df-buttons div {\n",
              "      margin-bottom: 4px;\n",
              "    }\n",
              "\n",
              "    [theme=dark] .colab-df-convert {\n",
              "      background-color: #3B4455;\n",
              "      fill: #D2E3FC;\n",
              "    }\n",
              "\n",
              "    [theme=dark] .colab-df-convert:hover {\n",
              "      background-color: #434B5C;\n",
              "      box-shadow: 0px 1px 3px 1px rgba(0, 0, 0, 0.15);\n",
              "      filter: drop-shadow(0px 1px 2px rgba(0, 0, 0, 0.3));\n",
              "      fill: #FFFFFF;\n",
              "    }\n",
              "  </style>\n",
              "\n",
              "    <script>\n",
              "      const buttonEl =\n",
              "        document.querySelector('#df-7ad25226-0901-4cac-a7e7-2349f3dc615d button.colab-df-convert');\n",
              "      buttonEl.style.display =\n",
              "        google.colab.kernel.accessAllowed ? 'block' : 'none';\n",
              "\n",
              "      async function convertToInteractive(key) {\n",
              "        const element = document.querySelector('#df-7ad25226-0901-4cac-a7e7-2349f3dc615d');\n",
              "        const dataTable =\n",
              "          await google.colab.kernel.invokeFunction('convertToInteractive',\n",
              "                                                    [key], {});\n",
              "        if (!dataTable) return;\n",
              "\n",
              "        const docLinkHtml = 'Like what you see? Visit the ' +\n",
              "          '<a target=\"_blank\" href=https://colab.research.google.com/notebooks/data_table.ipynb>data table notebook</a>'\n",
              "          + ' to learn more about interactive tables.';\n",
              "        element.innerHTML = '';\n",
              "        dataTable['output_type'] = 'display_data';\n",
              "        await google.colab.output.renderOutput(dataTable, element);\n",
              "        const docLink = document.createElement('div');\n",
              "        docLink.innerHTML = docLinkHtml;\n",
              "        element.appendChild(docLink);\n",
              "      }\n",
              "    </script>\n",
              "  </div>\n",
              "\n",
              "\n",
              "<div id=\"df-00257a7a-d4e9-405d-9733-9b313a8b7f09\">\n",
              "  <button class=\"colab-df-quickchart\" onclick=\"quickchart('df-00257a7a-d4e9-405d-9733-9b313a8b7f09')\"\n",
              "            title=\"Suggest charts.\"\n",
              "            style=\"display:none;\">\n",
              "\n",
              "<svg xmlns=\"http://www.w3.org/2000/svg\" height=\"24px\"viewBox=\"0 0 24 24\"\n",
              "     width=\"24px\">\n",
              "    <g>\n",
              "        <path d=\"M19 3H5c-1.1 0-2 .9-2 2v14c0 1.1.9 2 2 2h14c1.1 0 2-.9 2-2V5c0-1.1-.9-2-2-2zM9 17H7v-7h2v7zm4 0h-2V7h2v10zm4 0h-2v-4h2v4z\"/>\n",
              "    </g>\n",
              "</svg>\n",
              "  </button>\n",
              "\n",
              "<style>\n",
              "  .colab-df-quickchart {\n",
              "      --bg-color: #E8F0FE;\n",
              "      --fill-color: #1967D2;\n",
              "      --hover-bg-color: #E2EBFA;\n",
              "      --hover-fill-color: #174EA6;\n",
              "      --disabled-fill-color: #AAA;\n",
              "      --disabled-bg-color: #DDD;\n",
              "  }\n",
              "\n",
              "  [theme=dark] .colab-df-quickchart {\n",
              "      --bg-color: #3B4455;\n",
              "      --fill-color: #D2E3FC;\n",
              "      --hover-bg-color: #434B5C;\n",
              "      --hover-fill-color: #FFFFFF;\n",
              "      --disabled-bg-color: #3B4455;\n",
              "      --disabled-fill-color: #666;\n",
              "  }\n",
              "\n",
              "  .colab-df-quickchart {\n",
              "    background-color: var(--bg-color);\n",
              "    border: none;\n",
              "    border-radius: 50%;\n",
              "    cursor: pointer;\n",
              "    display: none;\n",
              "    fill: var(--fill-color);\n",
              "    height: 32px;\n",
              "    padding: 0;\n",
              "    width: 32px;\n",
              "  }\n",
              "\n",
              "  .colab-df-quickchart:hover {\n",
              "    background-color: var(--hover-bg-color);\n",
              "    box-shadow: 0 1px 2px rgba(60, 64, 67, 0.3), 0 1px 3px 1px rgba(60, 64, 67, 0.15);\n",
              "    fill: var(--button-hover-fill-color);\n",
              "  }\n",
              "\n",
              "  .colab-df-quickchart-complete:disabled,\n",
              "  .colab-df-quickchart-complete:disabled:hover {\n",
              "    background-color: var(--disabled-bg-color);\n",
              "    fill: var(--disabled-fill-color);\n",
              "    box-shadow: none;\n",
              "  }\n",
              "\n",
              "  .colab-df-spinner {\n",
              "    border: 2px solid var(--fill-color);\n",
              "    border-color: transparent;\n",
              "    border-bottom-color: var(--fill-color);\n",
              "    animation:\n",
              "      spin 1s steps(1) infinite;\n",
              "  }\n",
              "\n",
              "  @keyframes spin {\n",
              "    0% {\n",
              "      border-color: transparent;\n",
              "      border-bottom-color: var(--fill-color);\n",
              "      border-left-color: var(--fill-color);\n",
              "    }\n",
              "    20% {\n",
              "      border-color: transparent;\n",
              "      border-left-color: var(--fill-color);\n",
              "      border-top-color: var(--fill-color);\n",
              "    }\n",
              "    30% {\n",
              "      border-color: transparent;\n",
              "      border-left-color: var(--fill-color);\n",
              "      border-top-color: var(--fill-color);\n",
              "      border-right-color: var(--fill-color);\n",
              "    }\n",
              "    40% {\n",
              "      border-color: transparent;\n",
              "      border-right-color: var(--fill-color);\n",
              "      border-top-color: var(--fill-color);\n",
              "    }\n",
              "    60% {\n",
              "      border-color: transparent;\n",
              "      border-right-color: var(--fill-color);\n",
              "    }\n",
              "    80% {\n",
              "      border-color: transparent;\n",
              "      border-right-color: var(--fill-color);\n",
              "      border-bottom-color: var(--fill-color);\n",
              "    }\n",
              "    90% {\n",
              "      border-color: transparent;\n",
              "      border-bottom-color: var(--fill-color);\n",
              "    }\n",
              "  }\n",
              "</style>\n",
              "\n",
              "  <script>\n",
              "    async function quickchart(key) {\n",
              "      const quickchartButtonEl =\n",
              "        document.querySelector('#' + key + ' button');\n",
              "      quickchartButtonEl.disabled = true;  // To prevent multiple clicks.\n",
              "      quickchartButtonEl.classList.add('colab-df-spinner');\n",
              "      try {\n",
              "        const charts = await google.colab.kernel.invokeFunction(\n",
              "            'suggestCharts', [key], {});\n",
              "      } catch (error) {\n",
              "        console.error('Error during call to suggestCharts:', error);\n",
              "      }\n",
              "      quickchartButtonEl.classList.remove('colab-df-spinner');\n",
              "      quickchartButtonEl.classList.add('colab-df-quickchart-complete');\n",
              "    }\n",
              "    (() => {\n",
              "      let quickchartButtonEl =\n",
              "        document.querySelector('#df-00257a7a-d4e9-405d-9733-9b313a8b7f09 button');\n",
              "      quickchartButtonEl.style.display =\n",
              "        google.colab.kernel.accessAllowed ? 'block' : 'none';\n",
              "    })();\n",
              "  </script>\n",
              "</div>\n",
              "    </div>\n",
              "  </div>\n"
            ]
          },
          "metadata": {},
          "execution_count": 3
        }
      ]
    },
    {
      "cell_type": "code",
      "source": [
        "covariances = {}\n",
        "for fund in fund_list[1:]:\n",
        "    cov = np.cov(monthly_returns[fund], monthly_returns['VOO'])[0, 1]\n",
        "    covariances[fund] = cov\n",
        "# Calculate the variance of 'VOO'\n",
        "variance_voo = np.var(monthly_returns['VOO'])\n",
        "\n",
        "# Calculate beta for each fund\n",
        "betas = {}\n",
        "for fund in fund_list[1:]:\n",
        "    beta = covariances[fund] / variance_voo\n",
        "    betas[fund] = beta\n",
        "print('Beta Ranked Low to High\\n Against VOO\\n')\n",
        "for fund, beta in betas.items():\n",
        "    print(f'{fund} Beta: {beta:.2f}')"
      ],
      "metadata": {
        "colab": {
          "base_uri": "https://localhost:8080/",
          "height": 0
        },
        "id": "BSB2YyCS274m",
        "outputId": "e2af3dad-729e-4d1a-cdd7-2fa94f4318b6"
      },
      "execution_count": 6,
      "outputs": [
        {
          "output_type": "stream",
          "name": "stdout",
          "text": [
            "Beta Ranked Low to High\n",
            " Against VOO\n",
            "\n",
            "VMNFX Beta: -0.05\n",
            "XLP Beta: 0.60\n",
            "XLY Beta: 1.21\n",
            "SSO Beta: 2.07\n"
          ]
        }
      ]
    },
    {
      "cell_type": "markdown",
      "source": [
        "**End Question 4**"
      ],
      "metadata": {
        "id": "FlD7lUZcq9Dg"
      }
    },
    {
      "cell_type": "code",
      "source": [
        "LM_T_data = load_us_stock_data(['LMVTX','^RUT','SPY'],datetime(2000,10,2), datetime(2003,9,30))\n",
        "#calculate daily returns\n",
        "LM_T_data = (LM_T_data/LM_T_data.shift(1))-1\n",
        "#clean data\n",
        "LM_T_data.dropna(inplace=True)\n",
        "#calculate monthly returns\n",
        "monthly_LM_T_returns = LM_T_data.resample('M').apply(lambda x: (1 + x).prod() - 1)\n",
        "# reshape to match data\n",
        "monthly_LM_T_returns = monthly_LM_T_returns.drop(monthly_LM_T_returns.index[-1])"
      ],
      "metadata": {
        "colab": {
          "base_uri": "https://localhost:8080/"
        },
        "id": "4uhwiQg_6sJm",
        "outputId": "e874c06d-eaff-404a-d7fc-5f0e740e53f7"
      },
      "execution_count": null,
      "outputs": [
        {
          "output_type": "stream",
          "name": "stdout",
          "text": [
            "[*********************100%%**********************]  3 of 3 completed\n"
          ]
        }
      ]
    },
    {
      "cell_type": "code",
      "source": [
        "risk_free_data = pd.read_excel('risk-free-rate-forProject1.XLS')\n",
        "risk_free_data['Date'] = pd.to_datetime(risk_free_data['Date'])\n",
        "risk_free_data.set_index('Date', inplace=True)\n",
        "print('Risk Free Returns\\n\\n',risk_free_data)"
      ],
      "metadata": {
        "id": "mEtNCAE8DAE-",
        "colab": {
          "base_uri": "https://localhost:8080/"
        },
        "outputId": "0783729b-d4f8-493c-d4a5-e57b2f3f52b3"
      },
      "execution_count": null,
      "outputs": [
        {
          "output_type": "stream",
          "name": "stdout",
          "text": [
            "Risk Free Returns\n",
            "\n",
            "             Risk-free\n",
            "Date                 \n",
            "2000-11-01   0.005125\n",
            "2000-12-01   0.005008\n",
            "2001-01-02   0.004775\n",
            "2001-02-01   0.004033\n",
            "2001-03-01   0.003933\n",
            "2001-04-02   0.003483\n",
            "2001-05-01   0.003192\n",
            "2001-06-01   0.002950\n",
            "2001-07-02   0.002967\n",
            "2001-08-01   0.002867\n",
            "2001-09-04   0.002733\n",
            "2001-10-01   0.001917\n",
            "2001-11-01   0.001675\n",
            "2001-12-03   0.001442\n",
            "2002-01-02   0.001392\n",
            "2002-02-04   0.001433\n",
            "2002-03-01   0.001433\n",
            "2002-04-01   0.001450\n",
            "2002-05-01   0.001442\n",
            "2002-06-03   0.001425\n",
            "2002-07-01   0.001383\n",
            "2002-08-01   0.001383\n",
            "2002-09-03   0.001367\n",
            "2002-10-01   0.001275\n",
            "2002-11-01   0.001183\n",
            "2002-12-02   0.001000\n",
            "2003-01-02   0.000983\n",
            "2003-02-03   0.000958\n",
            "2003-03-03   0.000975\n",
            "2003-04-01   0.000908\n",
            "2003-05-01   0.000917\n",
            "2003-06-02   0.000908\n",
            "2003-07-01   0.000700\n",
            "2003-08-01   0.000775\n",
            "2003-09-02   0.000800\n"
          ]
        }
      ]
    },
    {
      "cell_type": "markdown",
      "source": [
        "**Start Question 5**\n"
      ],
      "metadata": {
        "id": "F5zUtz93rUZ9"
      }
    },
    {
      "cell_type": "code",
      "source": [
        "monthly_LM_T_returns['RF'] = risk_free_data['Risk-free'].values\n",
        "risk_adjusted = monthly_LM_T_returns.sub(monthly_LM_T_returns['RF'], axis=0)\n",
        "risk_adjusted = risk_adjusted.drop('RF',axis =1)\n",
        "print('Risk Adjusted Returns\\n\\n',risk_adjusted)"
      ],
      "metadata": {
        "colab": {
          "base_uri": "https://localhost:8080/"
        },
        "id": "Ss4BWnT9sNi9",
        "outputId": "33edb0e3-e3a8-45c8-e083-68440e34329d"
      },
      "execution_count": null,
      "outputs": [
        {
          "output_type": "stream",
          "name": "stdout",
          "text": [
            "Risk Adjusted Returns\n",
            "\n",
            "                LMVTX       SPY      ^RUT\n",
            "Date                                    \n",
            "2000-10-31 -0.001743 -0.011317 -0.032467\n",
            "2000-11-30 -0.094265 -0.079661 -0.108971\n",
            "2000-12-31  0.018943 -0.010002  0.079519\n",
            "2001-01-31  0.067936  0.040426  0.047277\n",
            "2001-02-28 -0.077465 -0.099321 -0.070759\n",
            "2001-03-31 -0.027639 -0.059521 -0.053739\n",
            "2001-04-30  0.069952  0.082249  0.074029\n",
            "2001-05-31  0.009710 -0.008556  0.020086\n",
            "2001-06-30 -0.015298 -0.026795  0.029541\n",
            "2001-07-31 -0.018016 -0.013063 -0.057213\n",
            "2001-08-31 -0.072065 -0.062066 -0.036192\n",
            "2001-09-30 -0.129245 -0.083547 -0.137844\n",
            "2001-10-31 -0.010821  0.011347  0.055874\n",
            "2001-11-30  0.086251  0.076536  0.074720\n",
            "2001-12-31  0.010126  0.004248  0.058767\n",
            "2002-01-31 -0.039188 -0.011232 -0.012488\n",
            "2002-02-28 -0.064128 -0.019369 -0.029875\n",
            "2002-03-31  0.066767  0.031821  0.077594\n",
            "2002-04-30 -0.021554 -0.059598  0.006871\n",
            "2002-05-31  0.001749 -0.007359 -0.046856\n",
            "2002-06-30 -0.123720 -0.075190 -0.052320\n",
            "2002-07-31 -0.076125 -0.080203 -0.153164\n",
            "2002-08-31  0.053439  0.005435 -0.005087\n",
            "2002-09-30 -0.119719 -0.106127 -0.074658\n",
            "2002-10-31  0.114459  0.081101  0.029816\n",
            "2002-11-30  0.092140  0.060681  0.086952\n",
            "2002-12-31 -0.071299 -0.057553 -0.058225\n",
            "2003-01-31 -0.003915 -0.025553 -0.029463\n",
            "2003-02-28 -0.031121 -0.014454 -0.032278\n",
            "2003-03-31  0.003168  0.001232  0.010242\n",
            "2003-04-30  0.119865  0.083695  0.092736\n",
            "2003-05-31  0.112517  0.053928  0.105242\n",
            "2003-06-30  0.004790  0.009951  0.016012\n",
            "2003-07-31  0.019043  0.017252  0.060893\n",
            "2003-08-31  0.029341  0.019826  0.044156\n"
          ]
        }
      ]
    },
    {
      "cell_type": "code",
      "source": [
        "x = monthly_LM_T_returns['^RUT']\n",
        "y = monthly_LM_T_returns['LMVTX']\n",
        "plt.scatter(x, y, color='blue', marker='o')\n",
        "slope, intercept, r_value, p_value, std_err = linregress(x, y)\n",
        "regression_line = slope * x + intercept\n",
        "plt.plot(x, regression_line, color='red', label='Regression Line')\n",
        "equation = f'Y = {slope:.4f}X + {intercept:.4f}'\n",
        "plt.text(0.1, 0.9, equation, fontsize=12, transform=plt.gca().transAxes)\n",
        "r_squared = f'R-squared = {r_value**2:.4f}'\n",
        "plt.text(0.1, 0.85, r_squared, fontsize=12, transform=plt.gca().transAxes)\n",
        "plt.xlabel('Russell Excess Return')\n",
        "plt.ylabel('LMVTX Excess Return')\n",
        "plt.title('Russell 2000 vs. LMVTX')"
      ],
      "metadata": {
        "colab": {
          "base_uri": "https://localhost:8080/",
          "height": 489
        },
        "id": "U9-PrcxsAkQD",
        "outputId": "0cb0db73-3353-4563-db8c-5c4de0f8dd6c"
      },
      "execution_count": null,
      "outputs": [
        {
          "output_type": "execute_result",
          "data": {
            "text/plain": [
              "Text(0.5, 1.0, 'Russell 2000 vs. LMVTX')"
            ]
          },
          "metadata": {},
          "execution_count": 105
        },
        {
          "output_type": "display_data",
          "data": {
            "text/plain": [
              "<Figure size 640x480 with 1 Axes>"
            ],
            "image/png": "[encoded data removed]"
          },
          "metadata": {}
        }
      ]
    },
    {
      "cell_type": "code",
      "source": [
        "x = monthly_LM_T_returns['SPY']\n",
        "y = monthly_LM_T_returns['LMVTX']\n",
        "plt.scatter(x, y, color='blue', marker='o')\n",
        "slope, intercept, r_value, p_value, std_err = linregress(x, y)\n",
        "regression_line = slope * x + intercept\n",
        "plt.plot(x, regression_line, color='red', label='Regression Line')\n",
        "equation = f'Y = {slope:.4f}X + {intercept:.4f}'\n",
        "plt.text(0.1, 0.9, equation, fontsize=12, transform=plt.gca().transAxes)\n",
        "r_squared = f'R-squared = {r_value**2:.4f}'\n",
        "plt.text(0.1, 0.85, r_squared, fontsize=12, transform=plt.gca().transAxes)\n",
        "plt.xlabel('S&P500 Excess Return')\n",
        "plt.ylabel('LMVTX Excess Return')\n",
        "plt.title('S&P500 vs. LMVTX')"
      ],
      "metadata": {
        "colab": {
          "base_uri": "https://localhost:8080/",
          "height": 489
        },
        "id": "_uoUDmIrvTnT",
        "outputId": "8315a950-10e0-44d1-f740-9ed8111b8320"
      },
      "execution_count": null,
      "outputs": [
        {
          "output_type": "execute_result",
          "data": {
            "text/plain": [
              "Text(0.5, 1.0, 'S&P500 vs. LMVTX')"
            ]
          },
          "metadata": {},
          "execution_count": 106
        },
        {
          "output_type": "display_data",
          "data": {
            "text/plain": [
              "<Figure size 640x480 with 1 Axes>"
            ],
            "image/png": "[encoded data removed]"
          },
          "metadata": {}
        }
      ]
    }
  ],
  "metadata": {
    "colab": {
      "provenance": [],
      "authorship_tag": "ABX9TyNHyh72Iav5O4z6kOJy3Ifu",
      "include_colab_link": true
    },
    "kernelspec": {
      "display_name": "Python 3",
      "name": "python3"
    },
    "language_info": {
      "name": "python"
    }
  },
  "nbformat": 4,
  "nbformat_minor": 0
}